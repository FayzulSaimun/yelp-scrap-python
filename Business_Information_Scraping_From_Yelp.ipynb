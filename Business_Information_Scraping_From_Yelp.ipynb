{
  "nbformat": 4,
  "nbformat_minor": 0,
  "metadata": {
    "colab": {
      "name": "Business_Information_Scraping_From_Yelp.ipynb",
      "provenance": [],
      "collapsed_sections": []
    },
    "kernelspec": {
      "name": "python3",
      "display_name": "Python 3"
    },
    "language_info": {
      "name": "python"
    }
  },
  "cells": [
    {
      "cell_type": "markdown",
      "metadata": {
        "id": "2UDiQfUR-Sq4"
      },
      "source": [
        "**Scraping Business information from yelp with Selenium and Beautiful Soup. To get Started we need to install Selenium with Chrome driver**"
      ]
    },
    {
      "cell_type": "code",
      "metadata": {
        "colab": {
          "base_uri": "https://localhost:8080/",
          "height": 1000
        },
        "id": "nM6ncCNN-OeJ",
        "outputId": "417e9e7d-b8b5-4695-f372-b5024f8cf8ed"
      },
      "source": [
        "!pip install selenium requests_html\n",
        "!pip install requests_html\n",
        "!apt-get update \n",
        "!apt install chromium-chromedriver    #for google colab\n"
      ],
      "execution_count": null,
      "outputs": [
        {
          "output_type": "stream",
          "text": [
            "Requirement already satisfied: selenium in /usr/local/lib/python3.7/dist-packages (3.141.0)\n",
            "Requirement already satisfied: requests_html in /usr/local/lib/python3.7/dist-packages (0.10.0)\n",
            "Requirement already satisfied: urllib3 in /usr/local/lib/python3.7/dist-packages (from selenium) (1.26.4)\n",
            "Requirement already satisfied: fake-useragent in /usr/local/lib/python3.7/dist-packages (from requests_html) (0.1.11)\n",
            "Requirement already satisfied: w3lib in /usr/local/lib/python3.7/dist-packages (from requests_html) (1.22.0)\n",
            "Requirement already satisfied: pyppeteer>=0.0.14 in /usr/local/lib/python3.7/dist-packages (from requests_html) (0.2.5)\n",
            "Requirement already satisfied: parse in /usr/local/lib/python3.7/dist-packages (from requests_html) (1.19.0)\n",
            "Requirement already satisfied: requests in /usr/local/lib/python3.7/dist-packages (from requests_html) (2.23.0)\n",
            "Requirement already satisfied: pyquery in /usr/local/lib/python3.7/dist-packages (from requests_html) (1.4.3)\n",
            "Requirement already satisfied: bs4 in /usr/local/lib/python3.7/dist-packages (from requests_html) (0.0.1)\n",
            "Requirement already satisfied: six>=1.4.1 in /usr/local/lib/python3.7/dist-packages (from w3lib->requests_html) (1.15.0)\n",
            "Requirement already satisfied: websockets<9.0,>=8.1 in /usr/local/lib/python3.7/dist-packages (from pyppeteer>=0.0.14->requests_html) (8.1)\n",
            "Requirement already satisfied: importlib-metadata<3.0.0,>=2.1.1; python_version < \"3.8\" in /usr/local/lib/python3.7/dist-packages (from pyppeteer>=0.0.14->requests_html) (2.1.1)\n",
            "Requirement already satisfied: tqdm<5.0.0,>=4.42.1 in /usr/local/lib/python3.7/dist-packages (from pyppeteer>=0.0.14->requests_html) (4.60.0)\n",
            "Requirement already satisfied: appdirs<2.0.0,>=1.4.3 in /usr/local/lib/python3.7/dist-packages (from pyppeteer>=0.0.14->requests_html) (1.4.4)\n",
            "Requirement already satisfied: pyee<9.0.0,>=8.1.0 in /usr/local/lib/python3.7/dist-packages (from pyppeteer>=0.0.14->requests_html) (8.1.0)\n",
            "Requirement already satisfied: chardet<4,>=3.0.2 in /usr/local/lib/python3.7/dist-packages (from requests->requests_html) (3.0.4)\n",
            "Requirement already satisfied: certifi>=2017.4.17 in /usr/local/lib/python3.7/dist-packages (from requests->requests_html) (2020.12.5)\n",
            "Requirement already satisfied: idna<3,>=2.5 in /usr/local/lib/python3.7/dist-packages (from requests->requests_html) (2.10)\n",
            "Requirement already satisfied: cssselect>0.7.9 in /usr/local/lib/python3.7/dist-packages (from pyquery->requests_html) (1.1.0)\n",
            "Requirement already satisfied: lxml>=2.1 in /usr/local/lib/python3.7/dist-packages (from pyquery->requests_html) (4.2.6)\n",
            "Requirement already satisfied: beautifulsoup4 in /usr/local/lib/python3.7/dist-packages (from bs4->requests_html) (4.6.3)\n",
            "Requirement already satisfied: zipp>=0.5 in /usr/local/lib/python3.7/dist-packages (from importlib-metadata<3.0.0,>=2.1.1; python_version < \"3.8\"->pyppeteer>=0.0.14->requests_html) (3.4.1)\n",
            "Requirement already satisfied: requests_html in /usr/local/lib/python3.7/dist-packages (0.10.0)\n",
            "Requirement already satisfied: bs4 in /usr/local/lib/python3.7/dist-packages (from requests_html) (0.0.1)\n",
            "Requirement already satisfied: w3lib in /usr/local/lib/python3.7/dist-packages (from requests_html) (1.22.0)\n",
            "Requirement already satisfied: requests in /usr/local/lib/python3.7/dist-packages (from requests_html) (2.23.0)\n",
            "Requirement already satisfied: fake-useragent in /usr/local/lib/python3.7/dist-packages (from requests_html) (0.1.11)\n",
            "Requirement already satisfied: pyppeteer>=0.0.14 in /usr/local/lib/python3.7/dist-packages (from requests_html) (0.2.5)\n",
            "Requirement already satisfied: parse in /usr/local/lib/python3.7/dist-packages (from requests_html) (1.19.0)\n",
            "Requirement already satisfied: pyquery in /usr/local/lib/python3.7/dist-packages (from requests_html) (1.4.3)\n",
            "Requirement already satisfied: beautifulsoup4 in /usr/local/lib/python3.7/dist-packages (from bs4->requests_html) (4.6.3)\n",
            "Requirement already satisfied: six>=1.4.1 in /usr/local/lib/python3.7/dist-packages (from w3lib->requests_html) (1.15.0)\n",
            "Requirement already satisfied: chardet<4,>=3.0.2 in /usr/local/lib/python3.7/dist-packages (from requests->requests_html) (3.0.4)\n",
            "Requirement already satisfied: idna<3,>=2.5 in /usr/local/lib/python3.7/dist-packages (from requests->requests_html) (2.10)\n",
            "Requirement already satisfied: certifi>=2017.4.17 in /usr/local/lib/python3.7/dist-packages (from requests->requests_html) (2020.12.5)\n",
            "Collecting urllib3!=1.25.0,!=1.25.1,<1.26,>=1.21.1\n",
            "\u001b[?25l  Downloading https://files.pythonhosted.org/packages/56/aa/4ef5aa67a9a62505db124a5cb5262332d1d4153462eb8fd89c9fa41e5d92/urllib3-1.25.11-py2.py3-none-any.whl (127kB)\n",
            "\u001b[K     |████████████████████████████████| 133kB 18.7MB/s \n",
            "\u001b[?25hRequirement already satisfied: tqdm<5.0.0,>=4.42.1 in /usr/local/lib/python3.7/dist-packages (from pyppeteer>=0.0.14->requests_html) (4.60.0)\n",
            "Requirement already satisfied: appdirs<2.0.0,>=1.4.3 in /usr/local/lib/python3.7/dist-packages (from pyppeteer>=0.0.14->requests_html) (1.4.4)\n",
            "Requirement already satisfied: websockets<9.0,>=8.1 in /usr/local/lib/python3.7/dist-packages (from pyppeteer>=0.0.14->requests_html) (8.1)\n",
            "Requirement already satisfied: pyee<9.0.0,>=8.1.0 in /usr/local/lib/python3.7/dist-packages (from pyppeteer>=0.0.14->requests_html) (8.1.0)\n",
            "Requirement already satisfied: importlib-metadata<3.0.0,>=2.1.1; python_version < \"3.8\" in /usr/local/lib/python3.7/dist-packages (from pyppeteer>=0.0.14->requests_html) (2.1.1)\n",
            "Requirement already satisfied: cssselect>0.7.9 in /usr/local/lib/python3.7/dist-packages (from pyquery->requests_html) (1.1.0)\n",
            "Requirement already satisfied: lxml>=2.1 in /usr/local/lib/python3.7/dist-packages (from pyquery->requests_html) (4.2.6)\n",
            "Requirement already satisfied: zipp>=0.5 in /usr/local/lib/python3.7/dist-packages (from importlib-metadata<3.0.0,>=2.1.1; python_version < \"3.8\"->pyppeteer>=0.0.14->requests_html) (3.4.1)\n",
            "\u001b[31mERROR: datascience 0.10.6 has requirement folium==0.2.1, but you'll have folium 0.8.3 which is incompatible.\u001b[0m\n",
            "Installing collected packages: urllib3\n",
            "  Found existing installation: urllib3 1.26.4\n",
            "    Uninstalling urllib3-1.26.4:\n",
            "      Successfully uninstalled urllib3-1.26.4\n",
            "Successfully installed urllib3-1.25.11\n"
          ],
          "name": "stdout"
        },
        {
          "output_type": "display_data",
          "data": {
            "application/vnd.colab-display-data+json": {
              "pip_warning": {
                "packages": [
                  "urllib3"
                ]
              }
            }
          },
          "metadata": {
            "tags": []
          }
        },
        {
          "output_type": "stream",
          "text": [
            "\r0% [Working]\r            \rHit:1 https://cloud.r-project.org/bin/linux/ubuntu bionic-cran40/ InRelease\n",
            "\r0% [Connecting to archive.ubuntu.com (91.189.88.152)] [Connecting to security.u\r0% [1 InRelease gpgv 3,626 B] [Connecting to archive.ubuntu.com (91.189.88.152)\r                                                                               \rIgn:2 https://developer.download.nvidia.com/compute/cuda/repos/ubuntu1804/x86_64  InRelease\n",
            "\r0% [1 InRelease gpgv 3,626 B] [Waiting for headers] [Waiting for headers] [Conn\r                                                                               \rHit:3 http://security.ubuntu.com/ubuntu bionic-security InRelease\n",
            "\r0% [1 InRelease gpgv 3,626 B] [Waiting for headers] [Waiting for headers] [Wait\r                                                                               \rHit:4 http://archive.ubuntu.com/ubuntu bionic InRelease\n",
            "\r0% [1 InRelease gpgv 3,626 B] [Waiting for headers] [Waiting for headers] [Wait\r                                                                               \rIgn:5 https://developer.download.nvidia.com/compute/machine-learning/repos/ubuntu1804/x86_64  InRelease\n",
            "\r                                                                               \r0% [1 InRelease gpgv 3,626 B] [Waiting for headers] [Waiting for headers]\r                                                                         \rHit:6 https://developer.download.nvidia.com/compute/cuda/repos/ubuntu1804/x86_64  Release\n",
            "\r0% [1 InRelease gpgv 3,626 B] [Waiting for headers] [Waiting for headers]\r                                                                         \rHit:7 https://developer.download.nvidia.com/compute/machine-learning/repos/ubuntu1804/x86_64  Release\n",
            "\r0% [1 InRelease gpgv 3,626 B] [Waiting for headers] [Waiting for headers]\r                                                                         \r0% [Waiting for headers] [Waiting for headers]\r0% [3 InRelease gpgv 88.7 kB] [Waiting for headers] [Waiting for headers]\r                                                                         \rHit:8 http://ppa.launchpad.net/c2d4u.team/c2d4u4.0+/ubuntu bionic InRelease\n",
            "Hit:9 http://archive.ubuntu.com/ubuntu bionic-updates InRelease\n",
            "Hit:10 http://archive.ubuntu.com/ubuntu bionic-backports InRelease\n",
            "Hit:11 http://ppa.launchpad.net/cran/libgit2/ubuntu bionic InRelease\n",
            "Hit:12 http://ppa.launchpad.net/deadsnakes/ppa/ubuntu bionic InRelease\n",
            "Hit:13 http://ppa.launchpad.net/graphics-drivers/ppa/ubuntu bionic InRelease\n",
            "Reading package lists... Done\n",
            "Reading package lists... Done\n",
            "Building dependency tree       \n",
            "Reading state information... Done\n",
            "chromium-chromedriver is already the newest version (89.0.4389.90-0ubuntu0.18.04.2).\n",
            "0 upgraded, 0 newly installed, 0 to remove and 50 not upgraded.\n"
          ],
          "name": "stdout"
        }
      ]
    },
    {
      "cell_type": "markdown",
      "metadata": {
        "id": "uljFdFO4CQ6M"
      },
      "source": [
        "**Initializing the chrome driver**"
      ]
    },
    {
      "cell_type": "code",
      "metadata": {
        "id": "lBExu_g9_WB_"
      },
      "source": [
        "# opening a webpage\n",
        "import pandas as pd\n",
        "from selenium import webdriver\n",
        "from selenium.webdriver.chrome.options import Options\n",
        "                #add proxy for not getting block\n",
        "\n",
        "chrome_options = webdriver.ChromeOptions()\n",
        "chrome_options.page_load_strategy = 'eager'\n",
        "chrome_options.add_argument('--headless')\n",
        "chrome_options.add_argument('--no-sandbox')\n",
        "chrome_options.add_argument('--disable-dev-shm-usage')\n",
        "#chrome_options.add_argument('--proxy-server=%s' % PROXY)\n",
        "browser =webdriver.Chrome('chromedriver',options=chrome_options)"
      ],
      "execution_count": null,
      "outputs": []
    },
    {
      "cell_type": "markdown",
      "metadata": {
        "id": "mkdlBfrYC-EM"
      },
      "source": [
        "**Searching and Generating the page links**"
      ]
    },
    {
      "cell_type": "code",
      "metadata": {
        "id": "f_nQzE5zAEdt"
      },
      "source": [
        "all_page_urls = []     #to save the page urls\n",
        "business_pages =[]     #to save the business page url\n",
        "\n",
        "search_item = str(input('What do you want to search for? '))  #you can change what your wanna search for\n",
        "location = str(input('Enter the location to search for: '))    #change in which loaction you want to search\n",
        "\n",
        "base_url = \"https://www.yelp.com/search?find_desc=\" +search_item + \"&find_loc=\"+location+\"&start=\"  #main search page urls pattern"
      ],
      "execution_count": null,
      "outputs": []
    },
    {
      "cell_type": "markdown",
      "metadata": {
        "id": "LdgvOrvKDyR8"
      },
      "source": [
        "**Generating the main search page and pagination**"
      ]
    },
    {
      "cell_type": "code",
      "metadata": {
        "colab": {
          "base_uri": "https://localhost:8080/"
        },
        "id": "-g7sxNMmDyC7",
        "outputId": "fb558806-b829-46f3-c374-7c923024ecf1"
      },
      "source": [
        "def yelp_search_link():\n",
        "  for i in range(0,200,10):       #change here for your requirement\n",
        "    main_url = base_url+str(i)\n",
        "    all_page_urls.append(all_page_urls)\n",
        "    print(main_url)\n",
        "\n",
        "yelp_search_link()   "
      ],
      "execution_count": null,
      "outputs": [
        {
          "output_type": "stream",
          "text": [
            "https://www.yelp.com/search?find_desc=&find_loc=&start=0\n",
            "https://www.yelp.com/search?find_desc=&find_loc=&start=10\n",
            "https://www.yelp.com/search?find_desc=&find_loc=&start=20\n",
            "https://www.yelp.com/search?find_desc=&find_loc=&start=30\n",
            "https://www.yelp.com/search?find_desc=&find_loc=&start=40\n",
            "https://www.yelp.com/search?find_desc=&find_loc=&start=50\n",
            "https://www.yelp.com/search?find_desc=&find_loc=&start=60\n",
            "https://www.yelp.com/search?find_desc=&find_loc=&start=70\n",
            "https://www.yelp.com/search?find_desc=&find_loc=&start=80\n",
            "https://www.yelp.com/search?find_desc=&find_loc=&start=90\n",
            "https://www.yelp.com/search?find_desc=&find_loc=&start=100\n",
            "https://www.yelp.com/search?find_desc=&find_loc=&start=110\n",
            "https://www.yelp.com/search?find_desc=&find_loc=&start=120\n",
            "https://www.yelp.com/search?find_desc=&find_loc=&start=130\n",
            "https://www.yelp.com/search?find_desc=&find_loc=&start=140\n",
            "https://www.yelp.com/search?find_desc=&find_loc=&start=150\n",
            "https://www.yelp.com/search?find_desc=&find_loc=&start=160\n",
            "https://www.yelp.com/search?find_desc=&find_loc=&start=170\n",
            "https://www.yelp.com/search?find_desc=&find_loc=&start=180\n",
            "https://www.yelp.com/search?find_desc=&find_loc=&start=190\n"
          ],
          "name": "stdout"
        }
      ]
    },
    {
      "cell_type": "markdown",
      "metadata": {
        "id": "PooSIAylEdhc"
      },
      "source": [
        "**We will only scrape the data from first page.**"
      ]
    },
    {
      "cell_type": "markdown",
      "metadata": {
        "id": "XGhm7M2xEpxS"
      },
      "source": [
        "**To extract the business information from each search page, we need to find the dedicated page links for all business listings. Each yelp search page contains 10 listing.**"
      ]
    },
    {
      "cell_type": "code",
      "metadata": {
        "id": "FhiX99ITEj76",
        "outputId": "ee36da27-a130-44e8-a6c1-8c943770e306"
      },
      "source": [
        "from random import randint\n",
        "from time import sleep   \n",
        "from bs4 import BeautifulSoup\n",
        "\n",
        "def find_items_page():\n",
        "    browser.get('https://www.yelp.com/search?find_desc=Hotel&find_loc=London&start=0')\n",
        "    sleep(randint(1,10))\n",
        "    soup = BeautifulSoup(browser.page_source, 'html.parser')\n",
        "    sleep(randint(1,10))\n",
        "    mains = soup.find_all('div', class_ = 'container__09f24__21w3G hoverable__09f24__2nTf3 margin-t3__09f24__5bM2Z margin-b3__09f24__1DQ9x padding-t3__09f24__-R_5x padding-r3__09f24__1pBFG padding-b3__09f24__1vW6j padding-l3__09f24__1yCJf border--top__09f24__8W8ca border--right__09f24__1u7Gt border--bottom__09f24__xdij8 border--left__09f24__rwKIa border-color--default__09f24__1eOdn')\n",
        "    main_url = 'https://www.yelp.com'\n",
        "    for main in mains:\n",
        "      a_tag = main.find('a', class_ = 'css-166la90').get('href')\n",
        "      sleep(randint(1,5))\n",
        "      a_tag_formated = main_url + str(a_tag)\n",
        "      business_pages.append(a_tag_formated)\n",
        "      print(a_tag_formated)\n",
        "find_items_page()"
      ],
      "execution_count": null,
      "outputs": [
        {
          "output_type": "stream",
          "text": [
            "https://www.yelp.com/biz/the-hoxton-shoreditch-london?osq=Hotel\n",
            "https://www.yelp.com/biz/london-marriott-hotel-park-lane-london?osq=Hotel\n",
            "https://www.yelp.com/biz/hotel-41-london?osq=Hotel\n",
            "https://www.yelp.com/biz/savoy-hotel-london?osq=Hotel\n",
            "https://www.yelp.com/biz/the-ritz-london-london-2?osq=Hotel\n",
            "https://www.yelp.com/biz/claridges-london-2?osq=Hotel\n",
            "https://www.yelp.com/biz/the-dorchester-london?osq=Hotel\n",
            "https://www.yelp.com/biz/corinthia-hotel-london-london-2?osq=Hotel\n",
            "https://www.yelp.com/biz/the-ned-london?osq=Hotel\n",
            "https://www.yelp.com/biz/jw-marriott-grosvenor-house-london-london?osq=Hotel\n"
          ],
          "name": "stdout"
        }
      ]
    },
    {
      "cell_type": "markdown",
      "metadata": {
        "id": "mgLddUBXUN_X"
      },
      "source": [
        "Now We have all the 10 links from first page."
      ]
    },
    {
      "cell_type": "code",
      "metadata": {
        "colab": {
          "base_uri": "https://localhost:8080/"
        },
        "id": "p8rVCJN2GLtM",
        "outputId": "bbc8e68e-09bd-4a1c-9e70-0e1a61f2b52b"
      },
      "source": [
        "business_pages"
      ],
      "execution_count": null,
      "outputs": [
        {
          "output_type": "execute_result",
          "data": {
            "text/plain": [
              "['https://www.yelp.com/biz/the-hoxton-shoreditch-london?osq=Hotel',\n",
              " 'https://www.yelp.com/biz/london-marriott-hotel-park-lane-london?osq=Hotel',\n",
              " 'https://www.yelp.com/biz/hotel-41-london?osq=Hotel',\n",
              " 'https://www.yelp.com/biz/savoy-hotel-london?osq=Hotel',\n",
              " 'https://www.yelp.com/biz/the-ritz-london-london-2?osq=Hotel',\n",
              " 'https://www.yelp.com/biz/claridges-london-2?osq=Hotel',\n",
              " 'https://www.yelp.com/biz/the-dorchester-london?osq=Hotel',\n",
              " 'https://www.yelp.com/biz/corinthia-hotel-london-london-2?osq=Hotel',\n",
              " 'https://www.yelp.com/biz/the-ned-london?osq=Hotel',\n",
              " 'https://www.yelp.com/biz/jw-marriott-grosvenor-house-london-london?osq=Hotel']"
            ]
          },
          "metadata": {
            "tags": []
          },
          "execution_count": 18
        }
      ]
    },
    {
      "cell_type": "markdown",
      "metadata": {
        "id": "EVPwgpZWURBV"
      },
      "source": [
        "**Before you try to scrap a large number of pages, please be sure that you're using proxies. Otherwise, you will get banned for sending too many requests to the server. I have been banned from yelp. So be careful.**"
      ]
    },
    {
      "cell_type": "code",
      "metadata": {
        "id": "d_A1R1kPD3NS",
        "outputId": "f9290731-3010-4c64-ce58-8d0c1e34f394"
      },
      "source": [
        "\n",
        "Names = []            #Name of the business profile\n",
        "Reviews = []          #No of reviews recieved\n",
        "Open_Hour = []        #Open hours\n",
        "Price_range = []      #Price range\n",
        "Address = []          #Address of the business\n",
        "Websites = []         #Wbsites of the business\n",
        "Phones = []           #Phone number of the business\n",
        "\n",
        "\n",
        "def scrape_and_save():\n",
        "  for urls in business_pages:\n",
        "    browser.get(urls)\n",
        "    sleep(randint(1,10))\n",
        "    ss = BeautifulSoup(browser.page_source, 'html.parser')\n",
        "    mainPage = ss.find('div', class_ = 'main-content-wrap main-content-wrap--full')\n",
        "    sleep(randint(1,10))\n",
        "\n",
        "    try:\n",
        "        name = mainPage.find('h1', class_ = 'css-11q1g5y').get_text()\n",
        "        Names.append(name)\n",
        "    except AttributeError:\n",
        "        name = 'NUll'\n",
        "        Names.append(name)\n",
        "\n",
        "    try:\n",
        "        review = mainPage.find('span', class_ = 'css-bq71j2').get_text()\n",
        "        Reviews.append(review)\n",
        "    except AttributeError:\n",
        "        review = 'Null'\n",
        "        Reviews.append(review)\n",
        "\n",
        "    try:\n",
        "        price = mainPage.find('span', class_ = 'css-1xxismk').get_text()\n",
        "        Price_range.append(price)\n",
        "    except AttributeError:\n",
        "        price = 'Null'\n",
        "        Price_range.append(price)\n",
        "\n",
        "    try:\n",
        "        opens = mainPage.find('div', class_=\"display--inline-block__373c0__2de_K margin-r1-5__373c0__1Vie3 border-color--default__373c0__2oFDT\").find_next('span', class_ = 'css-bq71j2').get_text()\n",
        "        Open_Hour.append(opens)\n",
        "    except AttributeError:\n",
        "        opens = 'Null'\n",
        "        Open_Hour.append(opens)\n",
        "\n",
        "    try:\n",
        "        address = mainPage.find('div', class_ = 'css-1vhakgw border--top__373c0__19Owr border-color--default__373c0__2oFDT').find_next('p', class_ = 'css-1h1j0y3').find_next('p', class_ = 'css-e81eai').get_text()\n",
        "        Address.append(address)\n",
        "    except AttributeError:\n",
        "        address = 'Null'\n",
        "        Address.append(address)\n",
        "    except TypeError:\n",
        "        address = 'Null'\n",
        "        Address.append(address)\n",
        "\n",
        "    try:\n",
        "        website = mainPage.find('a', class_ = 'css-ac8spe').get_text()\n",
        "        website = 'https://www.'+ str(website)\n",
        "        Websites.append(website)\n",
        "    except AttributeError:\n",
        "        website = 'Null'\n",
        "        Websites.append(website)\n",
        "\n",
        "    try:\n",
        "        phone = mainPage.find('div', class_ = 'stickySidebar__373c0__3PY1o border-color--default__373c0__2oFDT').find('p', class_ = 'css-1h1j0y3').find_next('p', class_ = 'css-1h1j0y3').get_text()\n",
        "        Phones.append(phone)\n",
        "    except AttributeError:\n",
        "        phone = 'Null'\n",
        "        Phones.append(phone)\n",
        "\n",
        "    print('Scraping Compeleted',urls)\n",
        "\n",
        "  df = pd.DataFrame({'Names':Names, 'Price Range': Price_range, 'Reviews': Reviews,\n",
        "                  'Address':Address, 'Website': Websites,'Phone Number': Phones})  #making a pandas dataframe\n",
        "\n",
        "  df.to_csv('Business Data.csv')   #Saving the data as csv\n",
        "    \n",
        "scrape_and_save()\n",
        "    \n",
        "\n"
      ],
      "execution_count": null,
      "outputs": [
        {
          "output_type": "stream",
          "text": [
            "Scraping Compeleted https://www.yelp.com/biz/the-hoxton-shoreditch-london?osq=Hotel\n",
            "Scraping Compeleted https://www.yelp.com/biz/london-marriott-hotel-park-lane-london?osq=Hotel\n",
            "Scraping Compeleted https://www.yelp.com/biz/hotel-41-london?osq=Hotel\n",
            "Scraping Compeleted https://www.yelp.com/biz/savoy-hotel-london?osq=Hotel\n",
            "Scraping Compeleted https://www.yelp.com/biz/the-ritz-london-london-2?osq=Hotel\n",
            "Scraping Compeleted https://www.yelp.com/biz/claridges-london-2?osq=Hotel\n",
            "Scraping Compeleted https://www.yelp.com/biz/the-dorchester-london?osq=Hotel\n",
            "Scraping Compeleted https://www.yelp.com/biz/corinthia-hotel-london-london-2?osq=Hotel\n",
            "Scraping Compeleted https://www.yelp.com/biz/the-ned-london?osq=Hotel\n",
            "Scraping Compeleted https://www.yelp.com/biz/jw-marriott-grosvenor-house-london-london?osq=Hotel\n"
          ],
          "name": "stdout"
        }
      ]
    },
    {
      "cell_type": "markdown",
      "metadata": {
        "id": "bcX9EHx6Vdlj"
      },
      "source": [
        "**Scraping in this process may seem slow, but it is the safest option to scrap a large number of pages without getting banned.**"
      ]
    },
    {
      "cell_type": "code",
      "metadata": {
        "colab": {
          "base_uri": "https://localhost:8080/",
          "height": 546
        },
        "id": "KDOK689DUHct",
        "outputId": "36bd33db-2329-445c-abf0-66c020d992fe"
      },
      "source": [
        "import pandas as pd\n",
        "data = pd.read_csv('/content/Business Data.csv')\n",
        "data"
      ],
      "execution_count": 3,
      "outputs": [
        {
          "output_type": "execute_result",
          "data": {
            "text/html": [
              "<div>\n",
              "<style scoped>\n",
              "    .dataframe tbody tr th:only-of-type {\n",
              "        vertical-align: middle;\n",
              "    }\n",
              "\n",
              "    .dataframe tbody tr th {\n",
              "        vertical-align: top;\n",
              "    }\n",
              "\n",
              "    .dataframe thead th {\n",
              "        text-align: right;\n",
              "    }\n",
              "</style>\n",
              "<table border=\"1\" class=\"dataframe\">\n",
              "  <thead>\n",
              "    <tr style=\"text-align: right;\">\n",
              "      <th></th>\n",
              "      <th>Unnamed: 0</th>\n",
              "      <th>Names</th>\n",
              "      <th>Price Range</th>\n",
              "      <th>Reviews</th>\n",
              "      <th>Address</th>\n",
              "      <th>Website</th>\n",
              "      <th>Phone Number</th>\n",
              "    </tr>\n",
              "  </thead>\n",
              "  <tbody>\n",
              "    <tr>\n",
              "      <th>0</th>\n",
              "      <td>0</td>\n",
              "      <td>The Hoxton - Shoreditch</td>\n",
              "      <td>Unclaimed</td>\n",
              "      <td>188 reviews</td>\n",
              "      <td>81-83 Great Eastern Street London EC2A 3HU Uni...</td>\n",
              "      <td>https://www.thehoxton.com</td>\n",
              "      <td>020 7550 1000</td>\n",
              "    </tr>\n",
              "    <tr>\n",
              "      <th>1</th>\n",
              "      <td>1</td>\n",
              "      <td>London Marriott Hotel Park Lane</td>\n",
              "      <td>£££</td>\n",
              "      <td>45 reviews</td>\n",
              "      <td>140 Park Lane London W1K 7AA United Kingdom</td>\n",
              "      <td>https://www.marriott.com/hotels/travel/lon…</td>\n",
              "      <td>020 7493 7000</td>\n",
              "    </tr>\n",
              "    <tr>\n",
              "      <th>2</th>\n",
              "      <td>2</td>\n",
              "      <td>Hotel 41</td>\n",
              "      <td>££££</td>\n",
              "      <td>29 reviews</td>\n",
              "      <td>41 Buckingham Palace Road London SW1W 0PS Unit...</td>\n",
              "      <td>https://www.41hotel.com</td>\n",
              "      <td>020 7300 0041</td>\n",
              "    </tr>\n",
              "    <tr>\n",
              "      <th>3</th>\n",
              "      <td>3</td>\n",
              "      <td>Savoy Hotel</td>\n",
              "      <td>££££</td>\n",
              "      <td>95 reviews</td>\n",
              "      <td>Strand London WC2R 0EU United Kingdom</td>\n",
              "      <td>https://www.fairmont.com/savoy-london</td>\n",
              "      <td>020 7836 4343</td>\n",
              "    </tr>\n",
              "    <tr>\n",
              "      <th>4</th>\n",
              "      <td>4</td>\n",
              "      <td>The Ritz London</td>\n",
              "      <td>££££</td>\n",
              "      <td>203 reviews</td>\n",
              "      <td>150 Piccadilly London W1J 9BR United Kingdom</td>\n",
              "      <td>https://www.theritzlondon.com</td>\n",
              "      <td>020 7493 8181</td>\n",
              "    </tr>\n",
              "    <tr>\n",
              "      <th>5</th>\n",
              "      <td>5</td>\n",
              "      <td>Claridge's</td>\n",
              "      <td>££££</td>\n",
              "      <td>107 reviews</td>\n",
              "      <td>Brook Street London W1K 4HR United Kingdom</td>\n",
              "      <td>https://www.claridges.co.uk</td>\n",
              "      <td>020 7629 8860</td>\n",
              "    </tr>\n",
              "    <tr>\n",
              "      <th>6</th>\n",
              "      <td>6</td>\n",
              "      <td>The Dorchester</td>\n",
              "      <td>££££</td>\n",
              "      <td>119 reviews</td>\n",
              "      <td>53 Park Lane London W1K 1QA United Kingdom</td>\n",
              "      <td>https://www.dorchestercollection.com</td>\n",
              "      <td>020 7629 8888</td>\n",
              "    </tr>\n",
              "    <tr>\n",
              "      <th>7</th>\n",
              "      <td>7</td>\n",
              "      <td>Corinthia Hotel London</td>\n",
              "      <td>££££</td>\n",
              "      <td>64 reviews</td>\n",
              "      <td>Whitehall Place London London SW1A 2BD United ...</td>\n",
              "      <td>https://www.corinthia.com/London</td>\n",
              "      <td>020 7930 8181</td>\n",
              "    </tr>\n",
              "    <tr>\n",
              "      <th>8</th>\n",
              "      <td>8</td>\n",
              "      <td>The Ned</td>\n",
              "      <td>£££</td>\n",
              "      <td>31 reviews</td>\n",
              "      <td>27 Poultry London EC2R 8AJ United Kingdom</td>\n",
              "      <td>https://www.thened.com</td>\n",
              "      <td>020 3828 2000</td>\n",
              "    </tr>\n",
              "    <tr>\n",
              "      <th>9</th>\n",
              "      <td>9</td>\n",
              "      <td>JW Marriott Grosvenor House London</td>\n",
              "      <td>£££</td>\n",
              "      <td>107 reviews</td>\n",
              "      <td>86-90 Park Lane London W1K 7TN United Kingdom</td>\n",
              "      <td>https://www.marriott.com/hotels/travel/lon…</td>\n",
              "      <td>020 7499 6363</td>\n",
              "    </tr>\n",
              "  </tbody>\n",
              "</table>\n",
              "</div>"
            ],
            "text/plain": [
              "   Unnamed: 0  ...   Phone Number\n",
              "0           0  ...  020 7550 1000\n",
              "1           1  ...  020 7493 7000\n",
              "2           2  ...  020 7300 0041\n",
              "3           3  ...  020 7836 4343\n",
              "4           4  ...  020 7493 8181\n",
              "5           5  ...  020 7629 8860\n",
              "6           6  ...  020 7629 8888\n",
              "7           7  ...  020 7930 8181\n",
              "8           8  ...  020 3828 2000\n",
              "9           9  ...  020 7499 6363\n",
              "\n",
              "[10 rows x 7 columns]"
            ]
          },
          "metadata": {
            "tags": []
          },
          "execution_count": 3
        }
      ]
    },
    {
      "cell_type": "markdown",
      "metadata": {
        "id": "KVdCT4K3WF1S"
      },
      "source": [
        "**If you want to send all the requests synchronously then, you can use python's async requests feature. But without proxies using this method might get you into getting banned by the website. So, to avoid this, you can use proxies.**"
      ]
    },
    {
      "cell_type": "markdown",
      "metadata": {
        "id": "LqPuahdAW4bN"
      },
      "source": [
        "**I have used grequests to send async requests for all the link(240).And after scraping more thand 160 I got banned from yelp.**"
      ]
    },
    {
      "cell_type": "code",
      "metadata": {
        "id": "nGlNaIPuYb1F"
      },
      "source": [
        "pip install grequests"
      ],
      "execution_count": null,
      "outputs": []
    },
    {
      "cell_type": "code",
      "metadata": {
        "id": "5veCKK83Vavv"
      },
      "source": [
        "from bs4 import BeautifulSoup\n",
        "import grequests              #for async requests\n",
        "import pandas as pd\n",
        "import time\n"
      ],
      "execution_count": null,
      "outputs": []
    },
    {
      "cell_type": "markdown",
      "metadata": {
        "id": "SGSzIhZdYi0l"
      },
      "source": [
        "Generating page links"
      ]
    },
    {
      "cell_type": "code",
      "metadata": {
        "colab": {
          "base_uri": "https://localhost:8080/"
        },
        "id": "IrCPZ_OYYfEH",
        "outputId": "ce6e69bb-e3a0-4204-9531-8c3e045f15d1"
      },
      "source": [
        "def get_urls():\n",
        "    urls = []\n",
        "    search_item = 'Hotel'           #you can change for your search\n",
        "    location = 'London'             #change where you wanna search\n",
        "    for x in range(0,200,10):\n",
        "        urls.append(\"https://www.yelp.com/search?find_desc=\" +search_item + \"&find_loc=\"+location+\"&start=\"+str(x))\n",
        "    return urls\n",
        "get_urls()"
      ],
      "execution_count": 7,
      "outputs": [
        {
          "output_type": "execute_result",
          "data": {
            "text/plain": [
              "['https://www.yelp.com/search?find_desc=Hotel&find_loc=London&start=0',\n",
              " 'https://www.yelp.com/search?find_desc=Hotel&find_loc=London&start=10',\n",
              " 'https://www.yelp.com/search?find_desc=Hotel&find_loc=London&start=20',\n",
              " 'https://www.yelp.com/search?find_desc=Hotel&find_loc=London&start=30',\n",
              " 'https://www.yelp.com/search?find_desc=Hotel&find_loc=London&start=40',\n",
              " 'https://www.yelp.com/search?find_desc=Hotel&find_loc=London&start=50',\n",
              " 'https://www.yelp.com/search?find_desc=Hotel&find_loc=London&start=60',\n",
              " 'https://www.yelp.com/search?find_desc=Hotel&find_loc=London&start=70',\n",
              " 'https://www.yelp.com/search?find_desc=Hotel&find_loc=London&start=80',\n",
              " 'https://www.yelp.com/search?find_desc=Hotel&find_loc=London&start=90',\n",
              " 'https://www.yelp.com/search?find_desc=Hotel&find_loc=London&start=100',\n",
              " 'https://www.yelp.com/search?find_desc=Hotel&find_loc=London&start=110',\n",
              " 'https://www.yelp.com/search?find_desc=Hotel&find_loc=London&start=120',\n",
              " 'https://www.yelp.com/search?find_desc=Hotel&find_loc=London&start=130',\n",
              " 'https://www.yelp.com/search?find_desc=Hotel&find_loc=London&start=140',\n",
              " 'https://www.yelp.com/search?find_desc=Hotel&find_loc=London&start=150',\n",
              " 'https://www.yelp.com/search?find_desc=Hotel&find_loc=London&start=160',\n",
              " 'https://www.yelp.com/search?find_desc=Hotel&find_loc=London&start=170',\n",
              " 'https://www.yelp.com/search?find_desc=Hotel&find_loc=London&start=180',\n",
              " 'https://www.yelp.com/search?find_desc=Hotel&find_loc=London&start=190']"
            ]
          },
          "metadata": {
            "tags": []
          },
          "execution_count": 7
        }
      ]
    },
    {
      "cell_type": "markdown",
      "metadata": {
        "id": "h02AP02fY1VS"
      },
      "source": [
        "**Now we need to send async requests for all of these pages. This will give us the business page links from all 19 pages.**"
      ]
    },
    {
      "cell_type": "code",
      "metadata": {
        "id": "ZV4r1kfLY09r"
      },
      "source": [
        "def get_data(urls):\n",
        "  reqs = [grequests.get(link) for link in urls]\n",
        "  time.sleep(0.15)\n",
        "  resp = grequests.map(reqs, size=4)\n",
        "  return resp\n",
        "\n",
        "def parse(resp):\n",
        "  business_page_links = []\n",
        "  for r in resp:\n",
        "      sp = BeautifulSoup(r.text, 'lxml')\n",
        "      mains = sp.find_all('div', class_ = 'container__09f24__21w3G hoverable__09f24__2nTf3 margin-t3__09f24__5bM2Zmargin-b3__09f24__1DQ9x padding-t3__09f24__-R_5x padding-r3__09f24__1pBFG padding-b3__09f24__1vW6j padding-l3__09f24__1yCJfborder--top__09f24__8W8ca border--right__09f24__1u7Gt border--bottom__09f24__xdij8 border--left__09f24__rwKIa border-color--default__09f24__1eOdn')\n",
        "      main_url = 'https://www.yelp.com'\n",
        "      for main in mains:\n",
        "          a_tag = main.find('a', class_ = 'css-166la90').get('href')\n",
        "          a_tag_formated = main_url + str(a_tag)\n",
        "          business_page_links.append(a_tag_formated)\n",
        "          print('Added: ', a_tag_formated)\n",
        "  return business_page_links\n",
        "\n",
        "\n",
        "urls = get_urls()\n",
        "resp = get_data(urls)\n",
        "df = pd.DataFrame(parse(resp))\n",
        "df.to_csv('Business page links.csv', index=False, header=Fals"
      ],
      "execution_count": null,
      "outputs": []
    },
    {
      "cell_type": "code",
      "metadata": {
        "colab": {
          "base_uri": "https://localhost:8080/"
        },
        "id": "l2DIQEE-ZpB6",
        "outputId": "d95de5bf-9c0a-4f65-80f9-abbfffdf765f"
      },
      "source": [
        "links = open('/content/Business page links.csv').readlines()\n",
        "links"
      ],
      "execution_count": 9,
      "outputs": [
        {
          "output_type": "execute_result",
          "data": {
            "text/plain": [
              "['https://www.yelp.com/biz/the-hoxton-shoreditch-london?osq=Hotel\\n',\n",
              " 'https://www.yelp.com/biz/london-marriott-hotel-park-lane-london?osq=Hotel\\n',\n",
              " 'https://www.yelp.com/biz/hotel-41-london?osq=Hotel\\n',\n",
              " 'https://www.yelp.com/biz/savoy-hotel-london?osq=Hotel\\n',\n",
              " 'https://www.yelp.com/biz/the-ritz-london-london-2?osq=Hotel\\n',\n",
              " 'https://www.yelp.com/biz/the-dorchester-london?osq=Hotel\\n',\n",
              " 'https://www.yelp.com/biz/claridges-london-2?osq=Hotel\\n',\n",
              " 'https://www.yelp.com/biz/corinthia-hotel-london-london-2?osq=Hotel\\n',\n",
              " 'https://www.yelp.com/biz/the-ned-london?osq=Hotel\\n',\n",
              " 'https://www.yelp.com/biz/jw-marriott-grosvenor-house-london-london?osq=Hotel\\n',\n",
              " 'https://www.yelp.com/biz/the-landmark-london-london-2?osq=Hotel\\n',\n",
              " 'https://www.yelp.com/biz/hotel-indigo-london-3?osq=Hotel\\n',\n",
              " 'https://www.yelp.com/biz/the-kensington-hotel-london?osq=Hotel\\n',\n",
              " 'https://www.yelp.com/biz/four-seasons-hotel-london-4?osq=Hotel\\n',\n",
              " 'https://www.yelp.com/biz/mandarin-oriental-london-2?osq=Hotel\\n',\n",
              " 'https://www.yelp.com/biz/kimpton-fitzroy-london-london?osq=Hotel\\n',\n",
              " 'https://www.yelp.com/biz/the-langham-london-london?osq=Hotel\\n',\n",
              " 'https://www.yelp.com/biz/london-marriott-hotel-county-hall-london?osq=Hotel\\n',\n",
              " 'https://www.yelp.com/biz/the-z-hotel-piccadilly-london?osq=Hotel\\n',\n",
              " 'https://www.yelp.com/biz/st-pancras-renaissance-hotel-london-london-2?osq=Hotel\\n',\n",
              " 'https://www.yelp.com/biz/the-london-edition-london?osq=Hotel\\n',\n",
              " 'https://www.yelp.com/biz/st-ermins-hotel-autograph-collection-london?osq=Hotel\\n',\n",
              " 'https://www.yelp.com/biz/the-soho-hotel-london?osq=Hotel\\n',\n",
              " 'https://www.yelp.com/biz/the-connaught-london-2?osq=Hotel\\n',\n",
              " 'https://www.yelp.com/biz/dean-street-townhouse-london?osq=Hotel\\n',\n",
              " 'https://www.yelp.com/biz/citizenm-hotel-london-4?osq=Hotel\\n',\n",
              " 'https://www.yelp.com/biz/haymarket-hotel-london?osq=Hotel\\n',\n",
              " 'https://www.yelp.com/biz/dukes-hotel-london?osq=Hotel\\n',\n",
              " 'https://www.yelp.com/biz/mercure-london-hyde-park-hotel-london?osq=Hotel\\n',\n",
              " 'https://www.yelp.com/biz/sanderson-hotel-london-3?osq=Hotel\\n',\n",
              " 'https://www.yelp.com/biz/the-lanesborough-london-2?osq=Hotel\\n',\n",
              " 'https://www.yelp.com/biz/sofitel-london-3?osq=Hotel\\n',\n",
              " 'https://www.yelp.com/biz/park-plaza-westminster-bridge-london-london-4?osq=Hotel\\n',\n",
              " 'https://www.yelp.com/biz/conrad-london-st-james-london-2?osq=Hotel\\n',\n",
              " 'https://www.yelp.com/biz/the-hoxton-holborn-london?osq=Hotel\\n',\n",
              " 'https://www.yelp.com/biz/doubletree-by-hilton-hotel-london-hyde-park-london-3?osq=Hotel\\n',\n",
              " 'https://www.yelp.com/biz/me-london-3?osq=Hotel\\n',\n",
              " 'https://www.yelp.com/biz/st-martins-lane-hotel-london-2?osq=Hotel\\n',\n",
              " 'https://www.yelp.com/biz/hyatt-regency-london-the-churchill-london?osq=Hotel\\n',\n",
              " 'https://www.yelp.com/biz/baglioni-hotel-london-3?osq=Hotel\\n',\n",
              " 'https://www.yelp.com/biz/amba-hotel-charing-cross-london?osq=Hotel\\n',\n",
              " 'https://www.yelp.com/biz/dorsett-london-2?osq=Hotel\\n',\n",
              " 'https://www.yelp.com/biz/ham-yard-hotel-london?osq=Hotel\\n',\n",
              " 'https://www.yelp.com/biz/the-rubens-at-the-palace-london?osq=Hotel\\n',\n",
              " 'https://www.yelp.com/biz/great-scotland-yard-hotel-london?osq=Hotel\\n',\n",
              " 'https://www.yelp.com/biz/intercontinental-london-park-lane-london-2?osq=Hotel\\n',\n",
              " 'https://www.yelp.com/biz/hub-premier-inn-london?osq=Hotel\\n',\n",
              " 'https://www.yelp.com/biz/afternoon-tea-at-the-montague-on-the-gardens-london-9?osq=Hotel\\n',\n",
              " 'https://www.yelp.com/biz/pullman-hotel-london-2?osq=Hotel\\n',\n",
              " 'https://www.yelp.com/biz/shangri-la-hotel-london?osq=Hotel\\n',\n",
              " 'https://www.yelp.com/biz/browns-hotel-london?osq=Hotel\\n',\n",
              " 'https://www.yelp.com/biz/the-chesterfield-mayfair-london?osq=Hotel\\n',\n",
              " 'https://www.yelp.com/biz/point-a-hotel-canary-wharf-london?osq=Hotel\\n',\n",
              " 'https://www.yelp.com/biz/andaz-london-liverpool-street-london-2?osq=Hotel\\n',\n",
              " 'https://www.yelp.com/biz/doubletree-by-hilton-hotel-london-west-end-london-3?osq=Hotel\\n',\n",
              " 'https://www.yelp.com/biz/the-stafford-london-london?osq=Hotel\\n',\n",
              " 'https://www.yelp.com/biz/the-westbourne-hyde-park-london?osq=Hotel\\n',\n",
              " 'https://www.yelp.com/biz/the-berkeley-london?osq=Hotel\\n',\n",
              " 'https://www.yelp.com/biz/apex-temple-court-hotel-london?osq=Hotel\\n',\n",
              " 'https://www.yelp.com/biz/the-z-hotel-london-2?osq=Hotel\\n',\n",
              " 'https://www.yelp.com/biz/the-holmes-hotel-london?osq=Hotel\\n',\n",
              " 'https://www.yelp.com/biz/best-western-buckingham-palace-road-london?osq=Hotel\\n',\n",
              " 'https://www.yelp.com/biz/mile-end-hotel-london?osq=Hotel\\n',\n",
              " 'https://www.yelp.com/biz/the-ampersand-hotel-london?osq=Hotel\\n',\n",
              " 'https://www.yelp.com/biz/grosvenor-hotel-london?osq=Hotel\\n',\n",
              " 'https://www.yelp.com/biz/hotel-indigo-london?osq=Hotel\\n',\n",
              " 'https://www.yelp.com/biz/the-cavendish-london-3?osq=Hotel\\n',\n",
              " 'https://www.yelp.com/biz/the-nadler-soho-london?osq=Hotel\\n',\n",
              " 'https://www.yelp.com/biz/hazlitts-hotels-london?osq=Hotel\\n',\n",
              " 'https://www.yelp.com/biz/millers-hotel-london?osq=Hotel\\n',\n",
              " 'https://www.yelp.com/biz/the-re-london-shoreditch-london?osq=Hotel\\n',\n",
              " 'https://www.yelp.com/biz/doubletree-by-hilton-hotel-london-westminster-london-3?osq=Hotel\\n',\n",
              " 'https://www.yelp.com/biz/the-marylebone-hotel-london?osq=Hotel\\n',\n",
              " 'https://www.yelp.com/biz/holiday-inn-london-27?osq=Hotel\\n',\n",
              " 'https://www.yelp.com/biz/crescent-hotel-london?osq=Hotel\\n',\n",
              " 'https://www.yelp.com/biz/crowne-plaza-london-the-city-london-2?osq=Hotel\\n',\n",
              " 'https://www.yelp.com/biz/the-arch-london-london?osq=Hotel\\n',\n",
              " 'https://www.yelp.com/biz/w-london-leicester-square-london?osq=Hotel\\n',\n",
              " 'https://www.yelp.com/biz/11-cadogan-gardens-london?osq=Hotel\\n',\n",
              " 'https://www.yelp.com/biz/charlotte-street-hotel-london?osq=Hotel\\n',\n",
              " 'https://www.yelp.com/biz/hilton-london-paddington-london-2?osq=Hotel\\n',\n",
              " 'https://www.yelp.com/biz/knightsbridge-hotel-london?osq=Hotel\\n',\n",
              " 'https://www.yelp.com/biz/the-fielding-london?osq=Hotel\\n',\n",
              " 'https://www.yelp.com/biz/limetree-hotel-london?osq=Hotel\\n',\n",
              " 'https://www.yelp.com/biz/st-jamess-st-jamess?osq=Hotel\\n',\n",
              " 'https://www.yelp.com/biz/holiday-inn-hotel-london-kensington-forum-london?osq=Hotel\\n',\n",
              " 'https://www.yelp.com/biz/mercure-london-bridge-london-2?osq=Hotel\\n',\n",
              " 'https://www.yelp.com/biz/royal-park-hotel-london?osq=Hotel\\n',\n",
              " 'https://www.yelp.com/biz/the-montcalm-london-marble-arch-london?osq=Hotel\\n',\n",
              " 'https://www.yelp.com/biz/pasha-hotel-london?osq=Hotel\\n',\n",
              " 'https://www.yelp.com/biz/luna-simone-hotel-london?osq=Hotel\\n',\n",
              " 'https://www.yelp.com/biz/the-rathbone-london?osq=Hotel\\n',\n",
              " 'https://www.yelp.com/biz/intercontinental-london-the-o2-london?osq=Hotel\\n',\n",
              " 'https://www.yelp.com/biz/the-goring-london?osq=Hotel\\n',\n",
              " 'https://www.yelp.com/biz/london-house-london?osq=Hotel\\n',\n",
              " 'https://www.yelp.com/biz/rosewood-london-london?osq=Hotel\\n',\n",
              " 'https://www.yelp.com/biz/one-aldwych-london?osq=Hotel\\n',\n",
              " 'https://www.yelp.com/biz/oakley-hotel-london?osq=Hotel\\n',\n",
              " 'https://www.yelp.com/biz/afternoon-tea-london-20?osq=Hotel\\n',\n",
              " 'https://www.yelp.com/biz/the-royal-horseguards-hotel-london-3?osq=Hotel\\n',\n",
              " 'https://www.yelp.com/biz/st-pauls-hotel-london?osq=Hotel\\n',\n",
              " 'https://www.yelp.com/biz/park-avenue-baker-street-london?osq=Hotel\\n',\n",
              " 'https://www.yelp.com/biz/park-plaza-london-riverbank-london-3?osq=Hotel\\n',\n",
              " 'https://www.yelp.com/biz/radisson-blu-edwardian-hampshire-london-2?osq=Hotel\\n',\n",
              " 'https://www.yelp.com/biz/the-pelham-london?osq=Hotel\\n',\n",
              " 'https://www.yelp.com/biz/covent-garden-hotel-london-3?osq=Hotel\\n',\n",
              " 'https://www.yelp.com/biz/the-grand-at-trafalgar-square-london?osq=Hotel\\n',\n",
              " 'https://www.yelp.com/biz/motel-one-london-london?osq=Hotel\\n',\n",
              " 'https://www.yelp.com/biz/morgan-hotel-london?osq=Hotel\\n',\n",
              " 'https://www.yelp.com/biz/the-kensington-gardens-hotel-london?osq=Hotel\\n',\n",
              " 'https://www.yelp.com/biz/premier-inn-london-33?osq=Hotel\\n',\n",
              " 'https://www.yelp.com/biz/kip-london?osq=Hotel\\n',\n",
              " 'https://www.yelp.com/biz/rembrandt-hotel-london?osq=Hotel\\n',\n",
              " 'https://www.yelp.com/biz/the-windermere-hotel-and-brasserie-london?osq=Hotel\\n',\n",
              " 'https://www.yelp.com/biz/st-james-court-a-taj-hotel-london-2?osq=Hotel\\n',\n",
              " 'https://www.yelp.com/biz/cherry-court-hotel-london?osq=Hotel\\n',\n",
              " 'https://www.yelp.com/biz/doubletree-by-hilton-hotel-london-docklands-riverside-london?osq=Hotel\\n',\n",
              " 'https://www.yelp.com/biz/the-zetter-townhouse-marylebone-london?osq=Hotel\\n',\n",
              " 'https://www.yelp.com/biz/ruben-s-hotel-london-3?osq=Hotel\\n',\n",
              " 'https://www.yelp.com/biz/danubius-hotel-london?osq=Hotel\\n',\n",
              " 'https://www.yelp.com/biz/nobu-hotel-shoreditch-london?osq=Hotel\\n',\n",
              " 'https://www.yelp.com/biz/bulgari-hotel-london-london-2?osq=Hotel\\n',\n",
              " 'https://www.yelp.com/biz/the-trafalgar-st-james-curio-collection-by-hilton-london?osq=Hotel\\n',\n",
              " 'https://www.yelp.com/biz/sheraton-grand-london-park-lane-london-2?osq=Hotel\\n',\n",
              " 'https://www.yelp.com/biz/the-russell-house-hotel-london?osq=Hotel\\n',\n",
              " 'https://www.yelp.com/biz/royal-lancaster-london-london?osq=Hotel\\n',\n",
              " 'https://www.yelp.com/biz/city-hotel-london-london?osq=Hotel\\n',\n",
              " 'https://www.yelp.com/biz/the-sumner-hotel-london?osq=Hotel\\n',\n",
              " 'https://www.yelp.com/biz/henrietta-london?osq=Hotel\\n',\n",
              " 'https://www.yelp.com/biz/bankside-hotel-london-2?osq=Hotel\\n',\n",
              " 'https://www.yelp.com/biz/club-quarters-london-4?osq=Hotel\\n',\n",
              " 'https://www.yelp.com/biz/hotel-caf%C3%A9-royal-london?osq=Hotel\\n',\n",
              " 'https://www.yelp.com/biz/taj-westminster?osq=Hotel\\n',\n",
              " 'https://www.yelp.com/biz/strand-palace-london-2?osq=Hotel\\n',\n",
              " 'https://www.yelp.com/biz/bluebells-and-seashells-london?osq=Hotel\\n',\n",
              " 'https://www.yelp.com/biz/40-winks-london?osq=Hotel\\n',\n",
              " 'https://www.yelp.com/biz/the-rockwell-hotel-london?osq=Hotel\\n',\n",
              " 'https://www.yelp.com/biz/harlingford-hotel-london?osq=Hotel\\n',\n",
              " 'https://www.yelp.com/biz/ibis-hotel-london-9?osq=Hotel\\n',\n",
              " 'https://www.yelp.com/biz/hilton-london-bankside-london?osq=Hotel\\n',\n",
              " 'https://www.yelp.com/biz/the-california-london?osq=Hotel\\n',\n",
              " 'https://www.yelp.com/biz/brewers-inn-london?osq=Hotel\\n',\n",
              " 'https://www.yelp.com/biz/the-dixon-london?osq=Hotel\\n',\n",
              " 'https://www.yelp.com/biz/lowndes-hotel-london?osq=Hotel\\n',\n",
              " 'https://www.yelp.com/biz/thanet-hotel-london?osq=Hotel\\n',\n",
              " 'https://www.yelp.com/biz/le-m%C3%A9ridien-piccadilly-london?osq=Hotel\\n',\n",
              " 'https://www.yelp.com/biz/thistle-piccadilly-hotel-london?osq=Hotel\\n',\n",
              " 'https://www.yelp.com/biz/the-w14-kensington-west-kensington?osq=Hotel\\n',\n",
              " 'https://www.yelp.com/biz/the-athenaeum-hotel-london?osq=Hotel\\n',\n",
              " 'https://www.yelp.com/biz/holiday-inn-express-hotel-london-golders-green-north-london?osq=Hotel\\n',\n",
              " 'https://www.yelp.com/biz/apex-city-of-london-hotel-london-2?osq=Hotel\\n',\n",
              " 'https://www.yelp.com/biz/mimis-hotel-soho-london?osq=Hotel\\n',\n",
              " 'https://www.yelp.com/biz/avo-hotel-london?osq=Hotel\\n',\n",
              " 'https://www.yelp.com/biz/ace-hotel-london-3?osq=Hotel\\n',\n",
              " 'https://www.yelp.com/biz/princess-hotel-london?osq=Hotel\\n',\n",
              " 'https://www.yelp.com/biz/the-capital-hotel-london?osq=Hotel\\n',\n",
              " 'https://www.yelp.com/biz/the-belgrave-london?osq=Hotel\\n',\n",
              " 'https://www.yelp.com/biz/church-street-hotel-london?osq=Hotel\\n',\n",
              " 'https://www.yelp.com/biz/the-draycott-london?osq=Hotel\\n',\n",
              " 'https://www.yelp.com/biz/the-rookery-london?osq=Hotel\\n',\n",
              " 'https://www.yelp.com/biz/best-western-palm-hotel-london?osq=Hotel\\n',\n",
              " 'https://www.yelp.com/biz/the-lodge-hotel-london?osq=Hotel\\n',\n",
              " 'https://www.yelp.com/biz/byron-hotel-london?osq=Hotel\\n',\n",
              " 'https://www.yelp.com/biz/the-nadler-victoria-london?osq=Hotel\\n',\n",
              " 'https://www.yelp.com/biz/blakes-hotel-london?osq=Hotel\\n',\n",
              " 'https://www.yelp.com/biz/leman-locke-london?osq=Hotel\\n',\n",
              " 'https://www.yelp.com/biz/the-curtain-london?osq=Hotel\\n',\n",
              " 'https://www.yelp.com/biz/millennium-gloucester-hotel-london-kensington-london?osq=Hotel\\n',\n",
              " 'https://www.yelp.com/biz/megaro-hotel-london?osq=Hotel\\n',\n",
              " 'https://www.yelp.com/biz/lse-high-holborn-residence-london?osq=Hotel\\n',\n",
              " 'https://www.yelp.com/biz/the-bloomsbury-hotel-london?osq=Hotel\\n',\n",
              " 'https://www.yelp.com/biz/sloane-square-hotel-london?osq=Hotel\\n',\n",
              " 'https://www.yelp.com/biz/the-penn-club-london?osq=Hotel\\n',\n",
              " 'https://www.yelp.com/biz/the-baileys-hotel-london-london-3?osq=Hotel\\n',\n",
              " 'https://www.yelp.com/biz/holiday-inn-london-29?osq=Hotel\\n',\n",
              " 'https://www.yelp.com/biz/the-zetter-hotel-london?osq=Hotel\\n',\n",
              " 'https://www.yelp.com/biz/hilton-london-metropole-london-2?osq=Hotel\\n',\n",
              " 'https://www.yelp.com/biz/hilton-garden-inn-london-heathrow-terminals-2-and-3-london?osq=Hotel\\n',\n",
              " 'https://www.yelp.com/biz/radisson-blu-edwardian-kenilworth-london?osq=Hotel\\n',\n",
              " 'https://www.yelp.com/biz/myhotel-london-2?osq=Hotel\\n',\n",
              " 'https://www.yelp.com/biz/hilton-garden-inn-london-heathrow-airport-london-3?osq=Hotel\\n',\n",
              " 'https://www.yelp.com/biz/h10-hotel-london?osq=Hotel\\n',\n",
              " 'https://www.yelp.com/biz/hotel-indigo-london-4?osq=Hotel\\n',\n",
              " 'https://www.yelp.com/biz/london-city-hotel-london?osq=Hotel\\n',\n",
              " 'https://www.yelp.com/biz/hotel-xenia-autograph-collection-london-6?osq=Hotel\\n',\n",
              " 'https://www.yelp.com/biz/alhambra-hotel-london?osq=Hotel\\n',\n",
              " 'https://www.yelp.com/biz/best-western-mornington-hotel-london-3?osq=Hotel\\n',\n",
              " 'https://www.yelp.com/biz/hilton-london-hyde-park-london-2?osq=Hotel\\n',\n",
              " 'https://www.yelp.com/biz/aster-house-london?osq=Hotel\\n',\n",
              " 'https://www.yelp.com/biz/the-mandeville-hotel-london?osq=Hotel\\n',\n",
              " 'https://www.yelp.com/biz/millennium-hotel-london-knightsbridge-london-3?osq=Hotel\\n',\n",
              " 'https://www.yelp.com/biz/k-k-hotel-george-london-2?osq=Hotel\\n',\n",
              " 'https://www.yelp.com/biz/apex-london-wall-hotel-london?osq=Hotel\\n',\n",
              " 'https://www.yelp.com/biz/treehouse-hotel-london-london-3?osq=Hotel\\n',\n",
              " 'https://www.yelp.com/biz/hotel-montana-london?osq=Hotel\\n',\n",
              " 'https://www.yelp.com/biz/the-may-fair-hotel-london-2?osq=Hotel\\n',\n",
              " 'https://www.yelp.com/biz/ibis-london-earls-court-london-2?osq=Hotel\\n',\n",
              " 'https://www.yelp.com/biz/hub-by-premier-inn-london?osq=Hotel\\n',\n",
              " 'https://www.yelp.com/biz/best-western-the-delmere-hotel-london?osq=Hotel\\n',\n",
              " 'https://www.yelp.com/biz/park-plaza-county-hall-london-london?osq=Hotel\\n',\n",
              " 'https://www.yelp.com/biz/dylan-paddington-london?osq=Hotel\\n',\n",
              " 'https://www.yelp.com/biz/doubletree-by-hilton-hotel-london-tower-of-london-london-3?osq=Hotel\\n',\n",
              " 'https://www.yelp.com/biz/brook-green-hotel-london?osq=Hotel\\n',\n",
              " 'https://www.yelp.com/biz/hyde-park-towers-hotel-london-2?osq=Hotel\\n',\n",
              " 'https://www.yelp.com/biz/69thegrove-london?osq=Hotel\\n',\n",
              " 'https://www.yelp.com/biz/great-northern-hotel-a-tribute-portfolio-hotel-london-london?osq=Hotel\\n',\n",
              " 'https://www.yelp.com/biz/hilton-london-tower-bridge-london?osq=Hotel\\n',\n",
              " 'https://www.yelp.com/biz/the-nadler-kensington-london-2?osq=Hotel\\n',\n",
              " 'https://www.yelp.com/biz/sea-containers-london-london-2?osq=Hotel\\n',\n",
              " 'https://www.yelp.com/biz/no-ten-manchester-street-hotel-london?osq=Hotel\\n',\n",
              " 'https://www.yelp.com/biz/doubletree-by-hilton-hotel-london-victoria-london-4?osq=Hotel\\n',\n",
              " 'https://www.yelp.com/biz/como-the-halkin-london?osq=Hotel\\n',\n",
              " 'https://www.yelp.com/biz/mad-hatter-hotel-london?osq=Hotel\\n',\n",
              " 'https://www.yelp.com/biz/good-hotel-london-london?osq=Hotel\\n',\n",
              " 'https://www.yelp.com/biz/leonardo-royal-hotel-london-tower-bridge-london?osq=Hotel\\n',\n",
              " 'https://www.yelp.com/biz/the-standard-london-london-3?osq=Hotel\\n',\n",
              " 'https://www.yelp.com/biz/the-capital-townhouse-london?osq=Hotel\\n',\n",
              " 'https://www.yelp.com/biz/doubletree-by-hilton-london-greenwich-london?osq=Hotel\\n',\n",
              " 'https://www.yelp.com/biz/the-zetter-townhouse-clerkenwell-london?osq=Hotel\\n',\n",
              " 'https://www.yelp.com/biz/doubletree-by-hilton-angel-kings-cross-london?osq=Hotel\\n',\n",
              " 'https://www.yelp.com/biz/london-marriott-hotel-grosvenor-square-london?osq=Hotel\\n',\n",
              " 'https://www.yelp.com/biz/radisson-blu-edwardian-vanderbilt-london?osq=Hotel\\n',\n",
              " 'https://www.yelp.com/biz/the-montcalm-brewery-london-city-london?osq=Hotel\\n',\n",
              " 'https://www.yelp.com/biz/citizenm-tower-of-london-london-2?osq=Hotel\\n',\n",
              " 'https://www.yelp.com/biz/meli%C3%A1-white-house-london-5?osq=Hotel\\n',\n",
              " 'https://www.yelp.com/biz/premier-inn-waterloo?osq=Hotel\\n',\n",
              " 'https://www.yelp.com/biz/middle-eight-london?osq=Hotel\\n',\n",
              " 'https://www.yelp.com/biz/holiday-inn-express-hotel-wandsworth-battersea-london?osq=Hotel\\n',\n",
              " 'https://www.yelp.com/biz/marlin-waterloo-london?osq=Hotel\\n',\n",
              " 'https://www.yelp.com/biz/the-milestone-hotel-and-residences-london-49?osq=Hotel\\n',\n",
              " 'https://www.yelp.com/biz/citizenm-london-2?osq=Hotel\\n',\n",
              " 'https://www.yelp.com/biz/courthouse-hotel-london?osq=Hotel\\n',\n",
              " 'https://www.yelp.com/biz/eccleston-square-hotel-london?osq=Hotel\\n',\n",
              " 'https://www.yelp.com/biz/citadines-st-marks-london-london?osq=Hotel\\n',\n",
              " 'https://www.yelp.com/biz/holiday-inn-express-hotel-london-2?osq=Hotel\\n',\n",
              " 'https://www.yelp.com/biz/thistle-holborn-the-kingsley-london?osq=Hotel\\n',\n",
              " 'https://www.yelp.com/biz/haverstock-hotel-london?osq=Hotel\\n',\n",
              " 'https://www.yelp.com/biz/radisson-london?osq=Hotel\\n',\n",
              " 'https://www.yelp.com/biz/canary-riverside-plaza-hotel-london?osq=Hotel\\n',\n",
              " 'https://www.yelp.com/biz/100-queens-gate-london?osq=Hotel\\n']"
            ]
          },
          "metadata": {
            "tags": []
          },
          "execution_count": 9
        }
      ]
    },
    {
      "cell_type": "markdown",
      "metadata": {
        "id": "ufj6zO8NaIKE"
      },
      "source": [
        "**Now we will scrap the information from all of these links.**"
      ]
    },
    {
      "cell_type": "code",
      "metadata": {
        "id": "nT9cD8lFaQ50"
      },
      "source": [
        "def get_data():\n",
        "  reqs = [grequests.get(link) for link in (open('/content/Business page links.csv').readlines())]\n",
        "  time.sleep(0.23)\n",
        "  resp = grequests.map(reqs, size = 5)\n",
        "  return resp\n",
        "\n",
        "def parse(resp):\n",
        "  Names = []\n",
        "  Reviews = []\n",
        "  Price_range = []\n",
        "  Open_Hour = []\n",
        "  Address = []\n",
        "  Websites = []\n",
        "  Phones = []\n",
        "  for r in resp:\n",
        "    soup = BeautifulSoup(r.text, 'lxml')\n",
        "    time.sleep(0.22)\n",
        "    mainPage = soup.find('div', class_ = 'main-content-wrap main-content-wrap--full')\n",
        "\n",
        "    try:\n",
        "        name = mainPage.find('h1', class_ = 'css-11q1g5y').get_text()\n",
        "        Names.append(name)\n",
        "    except AttributeError:\n",
        "        name = 'NUll'\n",
        "        Names.append(name)\n",
        "\n",
        "    try:\n",
        "        review = mainPage.find('span', class_ = 'css-bq71j2').get_text()\n",
        "        Reviews.append(review)\n",
        "    except AttributeError:\n",
        "        review = 'Null'\n",
        "        Reviews.append(review)\n",
        "\n",
        "    try:\n",
        "        price = mainPage.find('span', class_ = 'css-1xxismk').get_text()\n",
        "        Price_range.append(price)\n",
        "    except AttributeError:\n",
        "        price = 'Null'\n",
        "        Price_range.append(price)\n",
        "\n",
        "    try:\n",
        "        opens = mainPage.find('div', class_=\"display--inline-block__373c0__2de_K margin-r1-5__373c0__1Vie3 border-color--default__373c0__2oFDT\").find_next('span', class_ = 'css-bq71j2').get_text()\n",
        "        Open_Hour.append(opens)\n",
        "    except AttributeError:\n",
        "        opens = 'Null'\n",
        "        Open_Hour.append(opens)\n",
        "\n",
        "    try:\n",
        "        address = mainPage.find('div', class_ = 'css-1vhakgw border--top__373c0__19Owr border-color--default__373c0__2oFDT').find_next('p', class_ = 'css-1h1j0y3').find_next('p', class_ = 'css-e81eai').get_text()\n",
        "        Address.append(address)\n",
        "    except AttributeError:\n",
        "        address = 'Null'\n",
        "        Address.append(address)\n",
        "    except TypeError:\n",
        "        address = 'Null'\n",
        "        Address.append(address)\n",
        "\n",
        "    try:\n",
        "        website = mainPage.find('a', class_ = 'css-ac8spe').get_text()\n",
        "        website = 'https://www.'+ str(website)\n",
        "        Websites.append(website)\n",
        "    except AttributeError:\n",
        "        website = 'Null'\n",
        "        Websites.append(website)\n",
        "    try:\n",
        "        phone = mainPage.find('div', class_ = 'stickySidebar__373c0__3PY1o border-color--default__373c0__2oFDT').find('p', class_ = 'css-1h1j0y3').find_next('p', class_ = 'css-1h1j0y3').get_text()\n",
        "        Phones.append(phone)\n",
        "    except AttributeError:\n",
        "        phone = 'Null'\n",
        "        Phones.append(phone)\n",
        "\n",
        "    print(r)\n",
        "    print('Added:', name)\n",
        "  df = pd.DataFrame({'Names':Names, 'Price Range': Price_range, 'Open Hours':Open_Hour, 'Reviews': Reviews, 'Address':Address, 'Website': Websites,'Phone Number': Phones})\n",
        "  df.to_csv('Business Data async.csv', index=False)\n",
        "\n",
        "\n",
        "resp = get_data()\n",
        "parse(resp)"
      ],
      "execution_count": null,
      "outputs": []
    },
    {
      "cell_type": "code",
      "metadata": {
        "colab": {
          "base_uri": "https://localhost:8080/",
          "height": 606
        },
        "id": "wOxIlYQJam63",
        "outputId": "ca8ae0bd-2305-49a8-866f-02b3359948be"
      },
      "source": [
        "data_async = pd.read_csv('/content/Business Data async.csv')\n",
        "data_async"
      ],
      "execution_count": 10,
      "outputs": [
        {
          "output_type": "execute_result",
          "data": {
            "text/html": [
              "<div>\n",
              "<style scoped>\n",
              "    .dataframe tbody tr th:only-of-type {\n",
              "        vertical-align: middle;\n",
              "    }\n",
              "\n",
              "    .dataframe tbody tr th {\n",
              "        vertical-align: top;\n",
              "    }\n",
              "\n",
              "    .dataframe thead th {\n",
              "        text-align: right;\n",
              "    }\n",
              "</style>\n",
              "<table border=\"1\" class=\"dataframe\">\n",
              "  <thead>\n",
              "    <tr style=\"text-align: right;\">\n",
              "      <th></th>\n",
              "      <th>Names</th>\n",
              "      <th>Price Range</th>\n",
              "      <th>Open Hours</th>\n",
              "      <th>Reviews</th>\n",
              "      <th>Address</th>\n",
              "      <th>Website</th>\n",
              "      <th>Phone Number</th>\n",
              "    </tr>\n",
              "  </thead>\n",
              "  <tbody>\n",
              "    <tr>\n",
              "      <th>0</th>\n",
              "      <td>The Hoxton - Shoreditch</td>\n",
              "      <td>Unclaimed</td>\n",
              "      <td>Open 24 hours</td>\n",
              "      <td>188 reviews</td>\n",
              "      <td>81-83 Great Eastern Street London EC2A 3HU Uni...</td>\n",
              "      <td>https://www.thehoxton.com</td>\n",
              "      <td>020 7550 1000</td>\n",
              "    </tr>\n",
              "    <tr>\n",
              "      <th>1</th>\n",
              "      <td>London Marriott Hotel Park Lane</td>\n",
              "      <td>£££</td>\n",
              "      <td>Open 24 hours</td>\n",
              "      <td>45 reviews</td>\n",
              "      <td>140 Park Lane London W1K 7AA United Kingdom</td>\n",
              "      <td>https://www.marriott.com/hotels/travel/lon…</td>\n",
              "      <td>020 7493 7000</td>\n",
              "    </tr>\n",
              "    <tr>\n",
              "      <th>2</th>\n",
              "      <td>Hotel 41</td>\n",
              "      <td>££££</td>\n",
              "      <td>Open 24 hours</td>\n",
              "      <td>29 reviews</td>\n",
              "      <td>41 Buckingham Palace Road London SW1W 0PS Unit...</td>\n",
              "      <td>https://www.41hotel.com</td>\n",
              "      <td>020 7300 0041</td>\n",
              "    </tr>\n",
              "    <tr>\n",
              "      <th>3</th>\n",
              "      <td>Savoy Hotel</td>\n",
              "      <td>££££</td>\n",
              "      <td>Null</td>\n",
              "      <td>95 reviews</td>\n",
              "      <td>Strand London WC2R 0EU United Kingdom</td>\n",
              "      <td>https://www.fairmont.com/savoy-london</td>\n",
              "      <td>020 7836 4343</td>\n",
              "    </tr>\n",
              "    <tr>\n",
              "      <th>4</th>\n",
              "      <td>The Ritz London</td>\n",
              "      <td>££££</td>\n",
              "      <td>Open 24 hours</td>\n",
              "      <td>203 reviews</td>\n",
              "      <td>150 Piccadilly London W1J 9BR United Kingdom</td>\n",
              "      <td>https://www.theritzlondon.com</td>\n",
              "      <td>020 7493 8181</td>\n",
              "    </tr>\n",
              "    <tr>\n",
              "      <th>...</th>\n",
              "      <td>...</td>\n",
              "      <td>...</td>\n",
              "      <td>...</td>\n",
              "      <td>...</td>\n",
              "      <td>...</td>\n",
              "      <td>...</td>\n",
              "      <td>...</td>\n",
              "    </tr>\n",
              "    <tr>\n",
              "      <th>158</th>\n",
              "      <td>The Draycott</td>\n",
              "      <td>£££</td>\n",
              "      <td>Open 24 hours</td>\n",
              "      <td>4 reviews</td>\n",
              "      <td>26 Cadogan Gardens London SW3 2RP United Kingdom</td>\n",
              "      <td>https://www.draycotthotel.com</td>\n",
              "      <td>020 7730 6466</td>\n",
              "    </tr>\n",
              "    <tr>\n",
              "      <th>159</th>\n",
              "      <td>The Rookery</td>\n",
              "      <td>£££</td>\n",
              "      <td>Null</td>\n",
              "      <td>11 reviews</td>\n",
              "      <td>12 Peter's Lane London EC1M 6DS United Kingdom</td>\n",
              "      <td>https://www.rookeryhotel.com</td>\n",
              "      <td>020 7336 0931</td>\n",
              "    </tr>\n",
              "    <tr>\n",
              "      <th>160</th>\n",
              "      <td>Best Western Palm Hotel</td>\n",
              "      <td>Unclaimed</td>\n",
              "      <td>Null</td>\n",
              "      <td>4 reviews</td>\n",
              "      <td>64-76 Hendon Way London NW2 2NL United Kingdom</td>\n",
              "      <td>https://www.palmhoteluk.com</td>\n",
              "      <td>020 8455 5220</td>\n",
              "    </tr>\n",
              "    <tr>\n",
              "      <th>161</th>\n",
              "      <td>The Lodge Hotel</td>\n",
              "      <td>Unclaimed</td>\n",
              "      <td>Null</td>\n",
              "      <td>4 reviews</td>\n",
              "      <td>52-54 Upper Richmond Road London SW15 2RN Unit...</td>\n",
              "      <td>https://www.thelodgehotellondon.com</td>\n",
              "      <td>020 8874 1598</td>\n",
              "    </tr>\n",
              "    <tr>\n",
              "      <th>162</th>\n",
              "      <td>Byron Hotel</td>\n",
              "      <td>££</td>\n",
              "      <td>Open 24 hours</td>\n",
              "      <td>6 reviews</td>\n",
              "      <td>36-38 Queensborough Terrace London W2 3SH Unit...</td>\n",
              "      <td>https://www.capricornhotels.co.uk/hotel_by…</td>\n",
              "      <td>020 7243 0987</td>\n",
              "    </tr>\n",
              "  </tbody>\n",
              "</table>\n",
              "<p>163 rows × 7 columns</p>\n",
              "</div>"
            ],
            "text/plain": [
              "                               Names  ...   Phone Number\n",
              "0            The Hoxton - Shoreditch  ...  020 7550 1000\n",
              "1    London Marriott Hotel Park Lane  ...  020 7493 7000\n",
              "2                           Hotel 41  ...  020 7300 0041\n",
              "3                        Savoy Hotel  ...  020 7836 4343\n",
              "4                    The Ritz London  ...  020 7493 8181\n",
              "..                               ...  ...            ...\n",
              "158                     The Draycott  ...  020 7730 6466\n",
              "159                      The Rookery  ...  020 7336 0931\n",
              "160          Best Western Palm Hotel  ...  020 8455 5220\n",
              "161                  The Lodge Hotel  ...  020 8874 1598\n",
              "162                      Byron Hotel  ...  020 7243 0987\n",
              "\n",
              "[163 rows x 7 columns]"
            ]
          },
          "metadata": {
            "tags": []
          },
          "execution_count": 10
        }
      ]
    },
    {
      "cell_type": "markdown",
      "metadata": {
        "id": "0ckVFNv4dkhJ"
      },
      "source": [
        "**Try all of these methods to scrap your desired information.**"
      ]
    },
    {
      "cell_type": "code",
      "metadata": {
        "id": "NQv9elIkd8hI"
      },
      "source": [
        ""
      ],
      "execution_count": null,
      "outputs": []
    }
  ]
}